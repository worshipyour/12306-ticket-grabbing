{
  "nbformat": 4,
  "nbformat_minor": 0,
  "metadata": {
    "colab": {
      "provenance": [],
      "authorship_tag": "ABX9TyOvvEVA36223821jLRZdUod",
      "include_colab_link": true
    },
    "kernelspec": {
      "name": "python3",
      "display_name": "Python 3"
    },
    "language_info": {
      "name": "python"
    }
  },
  "cells": [
    {
      "cell_type": "markdown",
      "metadata": {
        "id": "view-in-github",
        "colab_type": "text"
      },
      "source": [
        "<a href=\"https://colab.research.google.com/github/worshipyour/12306-ticket-grabbing/blob/master/Untitled0.ipynb\" target=\"_parent\"><img src=\"https://colab.research.google.com/assets/colab-badge.svg\" alt=\"Open In Colab\"/></a>"
      ]
    },
    {
      "cell_type": "code",
      "execution_count": 2,
      "metadata": {
        "colab": {
          "base_uri": "https://localhost:8080/"
        },
        "id": "xdBCxvmw_h5L",
        "outputId": "577bfba3-7751-4196-a30e-82b3908c2d64"
      },
      "outputs": [
        {
          "output_type": "stream",
          "name": "stdout",
          "text": [
            "Drive already mounted at /content/gdrive; to attempt to forcibly remount, call drive.mount(\"/content/gdrive\", force_remount=True).\n"
          ]
        }
      ],
      "source": [
        "from google.colab import drive\n",
        "drive.mount('/content/gdrive')"
      ]
    },
    {
      "cell_type": "code",
      "source": [
        "import os\n",
        "os.chdir(\"/content/gdrive/MyDrive/LMWatermark-main\")"
      ],
      "metadata": {
        "id": "uVm7lcxhAkce"
      },
      "execution_count": 4,
      "outputs": []
    },
    {
      "cell_type": "code",
      "source": [
        "pwd"
      ],
      "metadata": {
        "colab": {
          "base_uri": "https://localhost:8080/",
          "height": 35
        },
        "id": "c5wnH6sSA70I",
        "outputId": "b7ca1455-fe8e-41ac-f95c-553a6b4a28e4"
      },
      "execution_count": 5,
      "outputs": [
        {
          "output_type": "execute_result",
          "data": {
            "text/plain": [
              "'/content/gdrive/MyDrive/LMWatermark-main'"
            ],
            "application/vnd.google.colaboratory.intrinsic+json": {
              "type": "string"
            }
          },
          "metadata": {},
          "execution_count": 5
        }
      ]
    },
    {
      "cell_type": "code",
      "source": [
        "!python test.py"
      ],
      "metadata": {
        "colab": {
          "base_uri": "https://localhost:8080/"
        },
        "id": "9Creb_U9BNhn",
        "outputId": "373fe778-1e72-4da9-8fb8-f3b988d339ef"
      },
      "execution_count": 7,
      "outputs": [
        {
          "output_type": "stream",
          "name": "stdout",
          "text": [
            "tensor([[-0.4647,  2.1383,  0.2323, -1.8297],\n",
            "        [ 1.8924, -0.6587, -0.3673,  0.5858]])\n",
            "2\n",
            "tensor([[1, 3, 2, 0],\n",
            "        [0, 1, 3, 2]])\n",
            "tensor([[ 1.5353,  2.1383,  0.2323,  0.1703],\n",
            "        [ 3.8924,  1.3413, -0.3673,  0.5858]])\n",
            "tensor([[0.2981, 0.5448, 0.0810, 0.0761],\n",
            "        [0.8859, 0.0691, 0.0125, 0.0325]])\n",
            "tensor([[0],\n",
            "        [0]])\n"
          ]
        }
      ]
    }
  ]
}